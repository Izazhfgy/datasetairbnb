{
 "cells": [
  {
   "cell_type": "code",
   "execution_count": 1,
   "id": "dbcff97e-4865-42ab-bb7c-6b62f313f426",
   "metadata": {},
   "outputs": [
    {
     "data": {
      "text/html": [
       "<div>\n",
       "<style scoped>\n",
       "    .dataframe tbody tr th:only-of-type {\n",
       "        vertical-align: middle;\n",
       "    }\n",
       "\n",
       "    .dataframe tbody tr th {\n",
       "        vertical-align: top;\n",
       "    }\n",
       "\n",
       "    .dataframe thead th {\n",
       "        text-align: right;\n",
       "    }\n",
       "</style>\n",
       "<table border=\"1\" class=\"dataframe\">\n",
       "  <thead>\n",
       "    <tr style=\"text-align: right;\">\n",
       "      <th></th>\n",
       "      <th>pelanggan_id</th>\n",
       "      <th>usia</th>\n",
       "      <th>jenis_kelamin</th>\n",
       "      <th>pendapatan</th>\n",
       "      <th>jml_kartu_kredit</th>\n",
       "      <th>pengeluaran_bulanan</th>\n",
       "      <th>tertarik</th>\n",
       "    </tr>\n",
       "  </thead>\n",
       "  <tbody>\n",
       "    <tr>\n",
       "      <th>0</th>\n",
       "      <td>P001</td>\n",
       "      <td>55</td>\n",
       "      <td>Pria</td>\n",
       "      <td>39451244</td>\n",
       "      <td>1</td>\n",
       "      <td>9464685</td>\n",
       "      <td>1</td>\n",
       "    </tr>\n",
       "    <tr>\n",
       "      <th>1</th>\n",
       "      <td>P002</td>\n",
       "      <td>43</td>\n",
       "      <td>Pria</td>\n",
       "      <td>140838825</td>\n",
       "      <td>2</td>\n",
       "      <td>8168362</td>\n",
       "      <td>1</td>\n",
       "    </tr>\n",
       "    <tr>\n",
       "      <th>2</th>\n",
       "      <td>P003</td>\n",
       "      <td>50</td>\n",
       "      <td>Pria</td>\n",
       "      <td>104926168</td>\n",
       "      <td>4</td>\n",
       "      <td>5327819</td>\n",
       "      <td>0</td>\n",
       "    </tr>\n",
       "    <tr>\n",
       "      <th>3</th>\n",
       "      <td>P004</td>\n",
       "      <td>25</td>\n",
       "      <td>Pria</td>\n",
       "      <td>144813329</td>\n",
       "      <td>2</td>\n",
       "      <td>8284953</td>\n",
       "      <td>0</td>\n",
       "    </tr>\n",
       "    <tr>\n",
       "      <th>4</th>\n",
       "      <td>P005</td>\n",
       "      <td>21</td>\n",
       "      <td>Wanita</td>\n",
       "      <td>47606951</td>\n",
       "      <td>2</td>\n",
       "      <td>2255564</td>\n",
       "      <td>1</td>\n",
       "    </tr>\n",
       "    <tr>\n",
       "      <th>5</th>\n",
       "      <td>P006</td>\n",
       "      <td>39</td>\n",
       "      <td>Wanita</td>\n",
       "      <td>92056263</td>\n",
       "      <td>2</td>\n",
       "      <td>9514493</td>\n",
       "      <td>1</td>\n",
       "    </tr>\n",
       "    <tr>\n",
       "      <th>6</th>\n",
       "      <td>P007</td>\n",
       "      <td>47</td>\n",
       "      <td>Pria</td>\n",
       "      <td>37021862</td>\n",
       "      <td>1</td>\n",
       "      <td>9930264</td>\n",
       "      <td>0</td>\n",
       "    </tr>\n",
       "    <tr>\n",
       "      <th>7</th>\n",
       "      <td>P008</td>\n",
       "      <td>30</td>\n",
       "      <td>Pria</td>\n",
       "      <td>142882279</td>\n",
       "      <td>3</td>\n",
       "      <td>5424507</td>\n",
       "      <td>1</td>\n",
       "    </tr>\n",
       "    <tr>\n",
       "      <th>8</th>\n",
       "      <td>P009</td>\n",
       "      <td>23</td>\n",
       "      <td>Wanita</td>\n",
       "      <td>38351245</td>\n",
       "      <td>2</td>\n",
       "      <td>3792427</td>\n",
       "      <td>0</td>\n",
       "    </tr>\n",
       "    <tr>\n",
       "      <th>9</th>\n",
       "      <td>P010</td>\n",
       "      <td>34</td>\n",
       "      <td>Pria</td>\n",
       "      <td>135945887</td>\n",
       "      <td>1</td>\n",
       "      <td>4357679</td>\n",
       "      <td>0</td>\n",
       "    </tr>\n",
       "    <tr>\n",
       "      <th>10</th>\n",
       "      <td>P011</td>\n",
       "      <td>25</td>\n",
       "      <td>Pria</td>\n",
       "      <td>138146354</td>\n",
       "      <td>2</td>\n",
       "      <td>6748035</td>\n",
       "      <td>0</td>\n",
       "    </tr>\n",
       "    <tr>\n",
       "      <th>11</th>\n",
       "      <td>P012</td>\n",
       "      <td>49</td>\n",
       "      <td>Pria</td>\n",
       "      <td>116448549</td>\n",
       "      <td>2</td>\n",
       "      <td>5390020</td>\n",
       "      <td>0</td>\n",
       "    </tr>\n",
       "    <tr>\n",
       "      <th>12</th>\n",
       "      <td>P013</td>\n",
       "      <td>57</td>\n",
       "      <td>Wanita</td>\n",
       "      <td>66640608</td>\n",
       "      <td>1</td>\n",
       "      <td>3681719</td>\n",
       "      <td>0</td>\n",
       "    </tr>\n",
       "    <tr>\n",
       "      <th>13</th>\n",
       "      <td>P014</td>\n",
       "      <td>21</td>\n",
       "      <td>Wanita</td>\n",
       "      <td>35345854</td>\n",
       "      <td>3</td>\n",
       "      <td>1890695</td>\n",
       "      <td>1</td>\n",
       "    </tr>\n",
       "    <tr>\n",
       "      <th>14</th>\n",
       "      <td>P015</td>\n",
       "      <td>34</td>\n",
       "      <td>Wanita</td>\n",
       "      <td>41683982</td>\n",
       "      <td>3</td>\n",
       "      <td>1838761</td>\n",
       "      <td>1</td>\n",
       "    </tr>\n",
       "    <tr>\n",
       "      <th>15</th>\n",
       "      <td>P016</td>\n",
       "      <td>30</td>\n",
       "      <td>Wanita</td>\n",
       "      <td>94365536</td>\n",
       "      <td>4</td>\n",
       "      <td>8367664</td>\n",
       "      <td>1</td>\n",
       "    </tr>\n",
       "    <tr>\n",
       "      <th>16</th>\n",
       "      <td>P017</td>\n",
       "      <td>27</td>\n",
       "      <td>Wanita</td>\n",
       "      <td>87821848</td>\n",
       "      <td>1</td>\n",
       "      <td>9888923</td>\n",
       "      <td>1</td>\n",
       "    </tr>\n",
       "    <tr>\n",
       "      <th>17</th>\n",
       "      <td>P018</td>\n",
       "      <td>45</td>\n",
       "      <td>Pria</td>\n",
       "      <td>79875088</td>\n",
       "      <td>4</td>\n",
       "      <td>6352825</td>\n",
       "      <td>0</td>\n",
       "    </tr>\n",
       "    <tr>\n",
       "      <th>18</th>\n",
       "      <td>P019</td>\n",
       "      <td>24</td>\n",
       "      <td>Wanita</td>\n",
       "      <td>135546976</td>\n",
       "      <td>4</td>\n",
       "      <td>9887324</td>\n",
       "      <td>0</td>\n",
       "    </tr>\n",
       "    <tr>\n",
       "      <th>19</th>\n",
       "      <td>P020</td>\n",
       "      <td>25</td>\n",
       "      <td>Pria</td>\n",
       "      <td>100790126</td>\n",
       "      <td>4</td>\n",
       "      <td>4321127</td>\n",
       "      <td>0</td>\n",
       "    </tr>\n",
       "  </tbody>\n",
       "</table>\n",
       "</div>"
      ],
      "text/plain": [
       "   pelanggan_id  usia jenis_kelamin  pendapatan  jml_kartu_kredit  \\\n",
       "0          P001    55          Pria    39451244                 1   \n",
       "1          P002    43          Pria   140838825                 2   \n",
       "2          P003    50          Pria   104926168                 4   \n",
       "3          P004    25          Pria   144813329                 2   \n",
       "4          P005    21        Wanita    47606951                 2   \n",
       "5          P006    39        Wanita    92056263                 2   \n",
       "6          P007    47          Pria    37021862                 1   \n",
       "7          P008    30          Pria   142882279                 3   \n",
       "8          P009    23        Wanita    38351245                 2   \n",
       "9          P010    34          Pria   135945887                 1   \n",
       "10         P011    25          Pria   138146354                 2   \n",
       "11         P012    49          Pria   116448549                 2   \n",
       "12         P013    57        Wanita    66640608                 1   \n",
       "13         P014    21        Wanita    35345854                 3   \n",
       "14         P015    34        Wanita    41683982                 3   \n",
       "15         P016    30        Wanita    94365536                 4   \n",
       "16         P017    27        Wanita    87821848                 1   \n",
       "17         P018    45          Pria    79875088                 4   \n",
       "18         P019    24        Wanita   135546976                 4   \n",
       "19         P020    25          Pria   100790126                 4   \n",
       "\n",
       "    pengeluaran_bulanan  tertarik  \n",
       "0               9464685         1  \n",
       "1               8168362         1  \n",
       "2               5327819         0  \n",
       "3               8284953         0  \n",
       "4               2255564         1  \n",
       "5               9514493         1  \n",
       "6               9930264         0  \n",
       "7               5424507         1  \n",
       "8               3792427         0  \n",
       "9               4357679         0  \n",
       "10              6748035         0  \n",
       "11              5390020         0  \n",
       "12              3681719         0  \n",
       "13              1890695         1  \n",
       "14              1838761         1  \n",
       "15              8367664         1  \n",
       "16              9888923         1  \n",
       "17              6352825         0  \n",
       "18              9887324         0  \n",
       "19              4321127         0  "
      ]
     },
     "execution_count": 1,
     "metadata": {},
     "output_type": "execute_result"
    }
   ],
   "source": [
    "import pandas as pd\n",
    "import numpy as np\n",
    "from sklearn.model_selection import train_test_split\n",
    "from sklearn.preprocessing import LabelEncoder, StandardScaler\n",
    "from sklearn.ensemble import RandomForestClassifier\n",
    "from sklearn.metrics import classification_report, confusion_matrix, accuracy_score\n",
    "import seaborn as sns\n",
    "import matplotlib.pyplot as plt\n",
    "\n",
    "df = pd.read_csv(\"latihan_4_kartu_kredit.csv\")\n",
    "df.head(20)"
   ]
  },
  {
   "cell_type": "code",
   "execution_count": 2,
   "id": "20579576-2d96-49ac-931a-f64186319625",
   "metadata": {},
   "outputs": [
    {
     "data": {
      "text/plain": [
       "pelanggan_id           object\n",
       "usia                    int64\n",
       "jenis_kelamin          object\n",
       "pendapatan              int64\n",
       "jml_kartu_kredit        int64\n",
       "pengeluaran_bulanan     int64\n",
       "tertarik                int64\n",
       "dtype: object"
      ]
     },
     "execution_count": 2,
     "metadata": {},
     "output_type": "execute_result"
    }
   ],
   "source": [
    "# Melihat tipe data setiap kolom\n",
    "df.dtypes"
   ]
  },
  {
   "cell_type": "code",
   "execution_count": 3,
   "id": "bf40ad90-91a5-42cf-9a42-0433e32c5095",
   "metadata": {},
   "outputs": [
    {
     "data": {
      "text/plain": [
       "pelanggan_id           0\n",
       "usia                   0\n",
       "jenis_kelamin          0\n",
       "pendapatan             0\n",
       "jml_kartu_kredit       0\n",
       "pengeluaran_bulanan    0\n",
       "tertarik               0\n",
       "dtype: int64"
      ]
     },
     "execution_count": 3,
     "metadata": {},
     "output_type": "execute_result"
    }
   ],
   "source": [
    "# Menampilkan jumlah missing values per kolom\n",
    "df.isnull().sum()"
   ]
  },
  {
   "cell_type": "code",
   "execution_count": 4,
   "id": "699b5388-e233-4214-969d-01345ab87bcb",
   "metadata": {},
   "outputs": [
    {
     "name": "stdout",
     "output_type": "stream",
     "text": [
      "            usia    pendapatan  jml_kartu_kredit  pengeluaran_bulanan  \\\n",
      "count  50.000000  5.000000e+01         50.000000         5.000000e+01   \n",
      "mean   35.960000  8.807882e+07          2.600000         5.715496e+06   \n",
      "std    12.323795  3.906806e+07          1.087968         2.758792e+06   \n",
      "min    20.000000  3.095396e+07          1.000000         1.318408e+06   \n",
      "25%    25.000000  4.762807e+07          2.000000         3.313964e+06   \n",
      "50%    32.500000  8.385470e+07          3.000000         5.407264e+06   \n",
      "75%    45.000000  1.272148e+08          3.750000         8.116405e+06   \n",
      "max    59.000000  1.448133e+08          4.000000         9.930264e+06   \n",
      "\n",
      "        tertarik  \n",
      "count  50.000000  \n",
      "mean    0.440000  \n",
      "std     0.501427  \n",
      "min     0.000000  \n",
      "25%     0.000000  \n",
      "50%     0.000000  \n",
      "75%     1.000000  \n",
      "max     1.000000  \n"
     ]
    }
   ],
   "source": [
    "print(df.describe())"
   ]
  },
  {
   "cell_type": "code",
   "execution_count": 5,
   "id": "6a1e5b25-e7f2-4d6e-8439-14a61a7e1864",
   "metadata": {},
   "outputs": [],
   "source": [
    "le = LabelEncoder()\n",
    "df['jenis_kelamin'] = le.fit_transform(df['jenis_kelamin'])  # Pria = 1, Wanita = 0"
   ]
  },
  {
   "cell_type": "code",
   "execution_count": 6,
   "id": "6bcfdffb-ad64-46b3-8e1a-2fe95e3cb319",
   "metadata": {},
   "outputs": [],
   "source": [
    "df.drop('pelanggan_id', axis=1, inplace=True)"
   ]
  },
  {
   "cell_type": "code",
   "execution_count": 7,
   "id": "4f1fd34f-e63a-446f-b8d5-eac773da52c1",
   "metadata": {},
   "outputs": [],
   "source": [
    "#Melakukan normalisasi (standarisasi) pada fitur numerik agar memiliki rata-rata 0 \n",
    "scaler = StandardScaler()\n",
    "fitur_numerik = ['usia', 'pendapatan', 'jml_kartu_kredit', 'pengeluaran_bulanan']\n",
    "df[fitur_numerik] = scaler.fit_transform(df[fitur_numerik])"
   ]
  },
  {
   "cell_type": "code",
   "execution_count": 8,
   "id": "843c1ca2-287f-49f4-b1b6-7ac67729b9bf",
   "metadata": {},
   "outputs": [],
   "source": [
    "# Pemilihan Fitur & Target\n",
    "X = df.drop('tertarik', axis=1)\n",
    "y = df['tertarik']"
   ]
  },
  {
   "cell_type": "code",
   "execution_count": 9,
   "id": "c5612094-31a3-4b5c-85ec-d38baca4b8c6",
   "metadata": {},
   "outputs": [],
   "source": [
    "#Split Data: Training & Testing\n",
    "X_train, X_test, y_train, y_test = train_test_split(X, y, test_size=0.2, random_state=42)"
   ]
  },
  {
   "cell_type": "code",
   "execution_count": 10,
   "id": "b1693c11-5388-49b1-9f85-7be61446b8ff",
   "metadata": {},
   "outputs": [
    {
     "data": {
      "text/html": [
       "<style>#sk-container-id-1 {color: black;background-color: white;}#sk-container-id-1 pre{padding: 0;}#sk-container-id-1 div.sk-toggleable {background-color: white;}#sk-container-id-1 label.sk-toggleable__label {cursor: pointer;display: block;width: 100%;margin-bottom: 0;padding: 0.3em;box-sizing: border-box;text-align: center;}#sk-container-id-1 label.sk-toggleable__label-arrow:before {content: \"▸\";float: left;margin-right: 0.25em;color: #696969;}#sk-container-id-1 label.sk-toggleable__label-arrow:hover:before {color: black;}#sk-container-id-1 div.sk-estimator:hover label.sk-toggleable__label-arrow:before {color: black;}#sk-container-id-1 div.sk-toggleable__content {max-height: 0;max-width: 0;overflow: hidden;text-align: left;background-color: #f0f8ff;}#sk-container-id-1 div.sk-toggleable__content pre {margin: 0.2em;color: black;border-radius: 0.25em;background-color: #f0f8ff;}#sk-container-id-1 input.sk-toggleable__control:checked~div.sk-toggleable__content {max-height: 200px;max-width: 100%;overflow: auto;}#sk-container-id-1 input.sk-toggleable__control:checked~label.sk-toggleable__label-arrow:before {content: \"▾\";}#sk-container-id-1 div.sk-estimator input.sk-toggleable__control:checked~label.sk-toggleable__label {background-color: #d4ebff;}#sk-container-id-1 div.sk-label input.sk-toggleable__control:checked~label.sk-toggleable__label {background-color: #d4ebff;}#sk-container-id-1 input.sk-hidden--visually {border: 0;clip: rect(1px 1px 1px 1px);clip: rect(1px, 1px, 1px, 1px);height: 1px;margin: -1px;overflow: hidden;padding: 0;position: absolute;width: 1px;}#sk-container-id-1 div.sk-estimator {font-family: monospace;background-color: #f0f8ff;border: 1px dotted black;border-radius: 0.25em;box-sizing: border-box;margin-bottom: 0.5em;}#sk-container-id-1 div.sk-estimator:hover {background-color: #d4ebff;}#sk-container-id-1 div.sk-parallel-item::after {content: \"\";width: 100%;border-bottom: 1px solid gray;flex-grow: 1;}#sk-container-id-1 div.sk-label:hover label.sk-toggleable__label {background-color: #d4ebff;}#sk-container-id-1 div.sk-serial::before {content: \"\";position: absolute;border-left: 1px solid gray;box-sizing: border-box;top: 0;bottom: 0;left: 50%;z-index: 0;}#sk-container-id-1 div.sk-serial {display: flex;flex-direction: column;align-items: center;background-color: white;padding-right: 0.2em;padding-left: 0.2em;position: relative;}#sk-container-id-1 div.sk-item {position: relative;z-index: 1;}#sk-container-id-1 div.sk-parallel {display: flex;align-items: stretch;justify-content: center;background-color: white;position: relative;}#sk-container-id-1 div.sk-item::before, #sk-container-id-1 div.sk-parallel-item::before {content: \"\";position: absolute;border-left: 1px solid gray;box-sizing: border-box;top: 0;bottom: 0;left: 50%;z-index: -1;}#sk-container-id-1 div.sk-parallel-item {display: flex;flex-direction: column;z-index: 1;position: relative;background-color: white;}#sk-container-id-1 div.sk-parallel-item:first-child::after {align-self: flex-end;width: 50%;}#sk-container-id-1 div.sk-parallel-item:last-child::after {align-self: flex-start;width: 50%;}#sk-container-id-1 div.sk-parallel-item:only-child::after {width: 0;}#sk-container-id-1 div.sk-dashed-wrapped {border: 1px dashed gray;margin: 0 0.4em 0.5em 0.4em;box-sizing: border-box;padding-bottom: 0.4em;background-color: white;}#sk-container-id-1 div.sk-label label {font-family: monospace;font-weight: bold;display: inline-block;line-height: 1.2em;}#sk-container-id-1 div.sk-label-container {text-align: center;}#sk-container-id-1 div.sk-container {/* jupyter's `normalize.less` sets `[hidden] { display: none; }` but bootstrap.min.css set `[hidden] { display: none !important; }` so we also need the `!important` here to be able to override the default hidden behavior on the sphinx rendered scikit-learn.org. See: https://github.com/scikit-learn/scikit-learn/issues/21755 */display: inline-block !important;position: relative;}#sk-container-id-1 div.sk-text-repr-fallback {display: none;}</style><div id=\"sk-container-id-1\" class=\"sk-top-container\"><div class=\"sk-text-repr-fallback\"><pre>RandomForestClassifier(random_state=42)</pre><b>In a Jupyter environment, please rerun this cell to show the HTML representation or trust the notebook. <br />On GitHub, the HTML representation is unable to render, please try loading this page with nbviewer.org.</b></div><div class=\"sk-container\" hidden><div class=\"sk-item\"><div class=\"sk-estimator sk-toggleable\"><input class=\"sk-toggleable__control sk-hidden--visually\" id=\"sk-estimator-id-1\" type=\"checkbox\" checked><label for=\"sk-estimator-id-1\" class=\"sk-toggleable__label sk-toggleable__label-arrow\">RandomForestClassifier</label><div class=\"sk-toggleable__content\"><pre>RandomForestClassifier(random_state=42)</pre></div></div></div></div></div>"
      ],
      "text/plain": [
       "RandomForestClassifier(random_state=42)"
      ]
     },
     "execution_count": 10,
     "metadata": {},
     "output_type": "execute_result"
    }
   ],
   "source": [
    "#Pelatihan Model\n",
    "model = RandomForestClassifier(random_state=42)\n",
    "model.fit(X_train, y_train)"
   ]
  },
  {
   "cell_type": "code",
   "execution_count": 11,
   "id": "9265ae83-e4c3-4d3f-a119-cd516798a5ba",
   "metadata": {},
   "outputs": [
    {
     "name": "stdout",
     "output_type": "stream",
     "text": [
      "Accuracy: 0.5\n",
      "Classification Report:\n",
      "               precision    recall  f1-score   support\n",
      "\n",
      "           0       0.60      0.50      0.55         6\n",
      "           1       0.40      0.50      0.44         4\n",
      "\n",
      "    accuracy                           0.50        10\n",
      "   macro avg       0.50      0.50      0.49        10\n",
      "weighted avg       0.52      0.50      0.51        10\n",
      "\n"
     ]
    },
    {
     "data": {
      "image/png": "[encoded data removed]",
      "text/plain": [
       "<Figure size 640x480 with 2 Axes>"
      ]
     },
     "metadata": {},
     "output_type": "display_data"
    }
   ],
   "source": [
    "#Evaluasi Model\n",
    "y_pred = model.predict(X_test)\n",
    "\n",
    "print(\"Accuracy:\", accuracy_score(y_test, y_pred))\n",
    "print(\"Classification Report:\\n\", classification_report(y_test, y_pred))\n",
    "\n",
    "# Confusion matrix\n",
    "cm = confusion_matrix(y_test, y_pred)\n",
    "sns.heatmap(cm, annot=True, fmt='d', cmap='Blues')\n",
    "plt.xlabel(\"Predicted\")\n",
    "plt.ylabel(\"Actual\")\n",
    "plt.title(\"Confusion Matrix\")\n",
    "plt.show()"
   ]
  },
  {
   "cell_type": "markdown",
   "id": "acc0218e-9a78-4655-bb2c-6802538b590b",
   "metadata": {},
   "source": [
    "Precision kelas 0 lebih tinggi (0.60), artinya model lebih “yakin” saat memprediksi tidak tertarik.\n",
    "\n",
    "Recall kelas 1 (0.50) cukup baik, artinya separuh dari pelanggan yang tertarik berhasil dikenali.\n",
    "\n",
    "Namun secara keseluruhan, model belum bisa memisahkan dua kelas dengan baik."
   ]
  },
  {
   "cell_type": "code",
   "execution_count": 13,
   "id": "aa271067-20ee-4a10-b082-d2e44be8f914",
   "metadata": {},
   "outputs": [
    {
     "data": {
      "image/png": "[encoded data removed]",
      "text/plain": [
       "<Figure size 640x480 with 1 Axes>"
      ]
     },
     "metadata": {},
     "output_type": "display_data"
    }
   ],
   "source": [
    "#feature_importance = pd.Series(model.feature_importances_, index=X.columns)\n",
    "feature_importance.sort_values().plot(kind='barh')\n",
    "plt.title(\"Feature Importance\")\n",
    "plt.show()\n",
    "feature_importance = pd.Series(model.feature_importances_, index=X.columns)\n",
    "feature_importance.sort_values().plot(kind='barh')\n",
    "plt.title(\"Feature Importance\")\n",
    "plt.show()"
   ]
  },
  {
   "cell_type": "markdown",
   "id": "e27cc47a-6250-4b3b-af50-079dab0baf6d",
   "metadata": {},
   "source": [
    "Hasil Model\n",
    "Model Random Forest saat ini hanya mencapai akurasi 50%, belum cukup baik untuk diterapkan.\n",
    "\n",
    "Performa seimbang antara kelas 0 dan 1, tapi rendah secara keseluruhan.\n",
    "\n",
    "isebabkan oleh jumlah data terlalu sedikit (hanya 10 data uji) atau data belum cukup informatif."
   ]
  }
 ],
 "metadata": {
  "kernelspec": {
   "display_name": "Python 3 (ipykernel)",
   "language": "python",
   "name": "python3"
  },
  "language_info": {
   "codemirror_mode": {
    "name": "ipython",
    "version": 3
   },
   "file_extension": ".py",
   "mimetype": "text/x-python",
   "name": "python",
   "nbconvert_exporter": "python",
   "pygments_lexer": "ipython3",
   "version": "3.11.7"
  }
 },
 "nbformat": 4,
 "nbformat_minor": 5
}
